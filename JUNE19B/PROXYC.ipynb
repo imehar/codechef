{
 "cells": [
  {
   "cell_type": "code",
   "execution_count": 18,
   "metadata": {},
   "outputs": [
    {
     "name": "stdout",
     "output_type": "stream",
     "text": [
      "1\n",
      "9\n",
      "PAAPPAPPP\n",
      "1\n"
     ]
    }
   ],
   "source": [
    "testcase = int(input())\n",
    "for _ in range(testcase):\n",
    "    n = int(input())\n",
    "    s = input()\n",
    "    present_count = s.count('P')\n",
    "    absent_count = n - present_count\n",
    "    percent = present_count/n\n",
    "    proxy_count = 0\n",
    "    atten_75 = False\n",
    "#     print(percent)\n",
    "    if percent < 0.75:\n",
    "        for i in range(2,n-2):\n",
    "            if s[i] == 'A':\n",
    "                if (s[i-1]=='P' or s[i-2]=='P') and (s[i+1]=='P' or s[i+2]=='P'):\n",
    "                    proxy_count +=1\n",
    "                    if (present_count + proxy_count)/n >=0.75:\n",
    "                        atten_75 = True\n",
    "                        break\n",
    "#         if atten_75:\n",
    "#             break\n",
    "    else:\n",
    "        atten_75 = True\n",
    "    if atten_75==True:\n",
    "        print(proxy_count)\n",
    "    else:\n",
    "        print(-1)"
   ]
  }
 ],
 "metadata": {
  "kernelspec": {
   "display_name": "Python 3",
   "language": "python",
   "name": "python3"
  },
  "language_info": {
   "codemirror_mode": {
    "name": "ipython",
    "version": 3
   },
   "file_extension": ".py",
   "mimetype": "text/x-python",
   "name": "python",
   "nbconvert_exporter": "python",
   "pygments_lexer": "ipython3",
   "version": "3.6.7"
  }
 },
 "nbformat": 4,
 "nbformat_minor": 2
}
