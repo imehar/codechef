{
 "cells": [
  {
   "cell_type": "code",
   "execution_count": null,
   "metadata": {},
   "outputs": [],
   "source": [
    "def countinv(a):\n",
    "    count=0\n",
    "    for i in range(len(a)):\n",
    "        for j in range(i):\n",
    "            if a[j]>a[i]:\n",
    "                count+=1\n",
    "#                 print(a[i],a[j])\n",
    "    return count\n"
   ]
  },
  {
   "cell_type": "code",
   "execution_count": null,
   "metadata": {},
   "outputs": [],
   "source": [
    "\n",
    "import numpy as np\n",
    "testcase = int(input())\n",
    "for _ in range(testcase):\n",
    "    n,q = map(int,input().split())\n",
    "    a = np.array(list(map(int,input().split())))\n",
    "    for i in range(q):\n",
    "        v = int(input())\n",
    "        print(a^v)\n",
    "        print(countinv(a^v))\n",
    "\n"
   ]
  }
 ],
 "metadata": {
  "kernelspec": {
   "display_name": "Python 3",
   "language": "python",
   "name": "python3"
  },
  "language_info": {
   "codemirror_mode": {
    "name": "ipython",
    "version": 3
   },
   "file_extension": ".py",
   "mimetype": "text/x-python",
   "name": "python",
   "nbconvert_exporter": "python",
   "pygments_lexer": "ipython3",
   "version": "3.6.8"
  }
 },
 "nbformat": 4,
 "nbformat_minor": 2
}
