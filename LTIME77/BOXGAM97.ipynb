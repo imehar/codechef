{
 "cells": [
  {
   "cell_type": "code",
   "execution_count": 7,
   "metadata": {},
   "outputs": [
    {
     "name": "stdout",
     "output_type": "stream",
     "text": [
      "1\n",
      "4 4 1\n",
      "4 1 9 5\n",
      "1\n"
     ]
    }
   ],
   "source": [
    "testcase = int(input())\n",
    "for _ in range(testcase):\n",
    "    n,k,p = map(int,input().split())\n",
    "    a = list(map(int,input().split()))\n",
    "    if k%2==1:\n",
    "        if p==0:\n",
    "            print(max(a))\n",
    "        elif p==1:\n",
    "            print(min(a))\n",
    "    else:\n",
    "        if p==0:\n",
    "            val = [0]*n\n",
    "            val[0] = a[1]\n",
    "            for i in range(1,n-1):\n",
    "                val[i] = min(a[i-1],a[i+1])\n",
    "            val[n-1]=a[n-2]\n",
    "            print(max(val))\n",
    "        else:\n",
    "            val = [0]*n\n",
    "            val[0] = a[1]\n",
    "            for i in range(1,n-1):\n",
    "                val[i] = max(a[i-1],a[i+1])\n",
    "            val[n-1]=a[n-2]\n",
    "            print(min(val))"
   ]
  }
 ],
 "metadata": {
  "kernelspec": {
   "display_name": "Python 3",
   "language": "python",
   "name": "python3"
  },
  "language_info": {
   "codemirror_mode": {
    "name": "ipython",
    "version": 3
   },
   "file_extension": ".py",
   "mimetype": "text/x-python",
   "name": "python",
   "nbconvert_exporter": "python",
   "pygments_lexer": "ipython3",
   "version": "3.6.8"
  }
 },
 "nbformat": 4,
 "nbformat_minor": 2
}
