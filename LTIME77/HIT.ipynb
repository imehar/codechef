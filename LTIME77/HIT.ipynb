{
 "cells": [
  {
   "cell_type": "code",
   "execution_count": 9,
   "metadata": {},
   "outputs": [
    {
     "name": "stdout",
     "output_type": "stream",
     "text": [
      "1\n",
      "4\n",
      "0 1 2 3\n",
      "1 2 3\n"
     ]
    }
   ],
   "source": [
    "def check(a,x,y,z):\n",
    "    count = [0]*4\n",
    "    for ele in a:\n",
    "        if ele<x:\n",
    "            count[3]+=1\n",
    "        elif ele>=x and ele<y:\n",
    "            count[2]+=1\n",
    "        elif ele>=y and ele<z:\n",
    "            count[1]+=1\n",
    "        elif ele>=z:\n",
    "            count[0]+=1\n",
    "    return all(i == count[0] for i in count) \n",
    "            \n",
    "testcase = int(input())\n",
    "while testcase>0:\n",
    "    n = int(input())\n",
    "    a = list(map(int,input().split()))\n",
    "    per_d = n//4\n",
    "    a.sort()\n",
    "    x = a[per_d]\n",
    "    y = a[per_d*2]\n",
    "    z = a[per_d*3]\n",
    "    found = check(a,x,y,z)\n",
    "    if found:\n",
    "        print(x,y,z)\n",
    "    else:\n",
    "        print(-1)\n",
    "    testcase-=1"
   ]
  }
 ],
 "metadata": {
  "kernelspec": {
   "display_name": "Python 3",
   "language": "python",
   "name": "python3"
  },
  "language_info": {
   "codemirror_mode": {
    "name": "ipython",
    "version": 3
   },
   "file_extension": ".py",
   "mimetype": "text/x-python",
   "name": "python",
   "nbconvert_exporter": "python",
   "pygments_lexer": "ipython3",
   "version": "3.6.8"
  }
 },
 "nbformat": 4,
 "nbformat_minor": 2
}
