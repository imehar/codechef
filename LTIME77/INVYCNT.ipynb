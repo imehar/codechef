{
 "cells": [
  {
   "cell_type": "code",
   "execution_count": 33,
   "metadata": {},
   "outputs": [
    {
     "name": "stdout",
     "output_type": "stream",
     "text": [
      "2\n",
      "3 3\n",
      "2 1 3\n",
      "12\n",
      "4 100\n",
      "99 2 1000 24\n",
      "30000\n"
     ]
    }
   ],
   "source": [
    "testcase = int(input())\n",
    "for _ in range(testcase):\n",
    "    n,k = map(int,input().split())\n",
    "    a = list(map(int,input().split()))\n",
    "    count = [0]*n\n",
    "    count1 = [0]*n\n",
    "    for i in range(n):\n",
    "        for j in range(i,n):\n",
    "            if a[j]<a[i] and i<j:\n",
    "                count[i]+=1\n",
    "    for i in range(n-1,-1,-1):\n",
    "        for j in range(i):\n",
    "            if a[j]<a[i]:\n",
    "                count1[i]+=1\n",
    "    mx = max(a)\n",
    "    sumk = k*(k+1)//2\n",
    "    ans = 0\n",
    "    for i in range(n):\n",
    "        ans+= (count[i]*sumk)\n",
    "        ans+= (count1[i]*(sumk-k))\n",
    "        \n",
    "    print(ans)"
   ]
  }
 ],
 "metadata": {
  "kernelspec": {
   "display_name": "Python 3",
   "language": "python",
   "name": "python3"
  },
  "language_info": {
   "codemirror_mode": {
    "name": "ipython",
    "version": 3
   },
   "file_extension": ".py",
   "mimetype": "text/x-python",
   "name": "python",
   "nbconvert_exporter": "python",
   "pygments_lexer": "ipython3",
   "version": "3.6.8"
  }
 },
 "nbformat": 4,
 "nbformat_minor": 2
}
